{
 "cells": [
  {
   "cell_type": "code",
   "execution_count": 1,
   "metadata": {},
   "outputs": [],
   "source": [
    "import numpy as np\n",
    "import pandas as pd\n",
    "import matplotlib.pyplot as plt\n",
    "import random"
   ]
  },
  {
   "cell_type": "code",
   "execution_count": 2,
   "metadata": {},
   "outputs": [],
   "source": [
    "## Step 1 Initializing :: randomly taking 4 mu's as cluster center points\n",
    "csv_data = pd.read_csv('/home/sreekrishna/ML/kmean.csv') ## Reading CSV file\n",
    "N = len(csv_data) ## CSV file length to N\n",
    "K = 4 ## No of clusters\n",
    "mu = [] ## initializing mu to empty array\n",
    "\n",
    "## Randomly picking 'K'(no of clusters) mu's\n",
    "for k in random.sample(range(N),K):\n",
    "    mu.append((csv_data['lat'][k],csv_data['lng'][k]))"
   ]
  },
  {
   "cell_type": "code",
   "execution_count": 3,
   "metadata": {},
   "outputs": [],
   "source": [
    "## Step 2 Iterration :: Untill we get best mu's \n",
    "\n",
    "## loop will be itterating till we get difference b/w mu & new_mu close to zero\n",
    "metric = float('inf')\n",
    "while (metric > 2**(-10)):\n",
    "    ## r has 'N' rows and 'k' columns, initially assigned with zero's\n",
    "    r = np.zeros((N,K))\n",
    "    ## cnt holds counts close to 1's,2'nd,3'rd,4'th mu\n",
    "    cnt = []\n",
    "    ## Iterating to caluculate distance of each data point from mu\n",
    "    for data_row in csv_data.iterrows():\n",
    "        distance = []\n",
    "        for k in range(K):\n",
    "            distance.append(np.sqrt((mu[k][0]-data_row[1]['lat'])**2)+((mu[k][1]-data_row[1]['lng'])**2))\n",
    "        ## min distance will tell us, data points closests mu's index \n",
    "        output = np.argmin(distance)\n",
    "        ## Incrimenting count of corresponding mu as it got one close data point\n",
    "        r[data_row[0]][output] = 1\n",
    "    ## finding total count of data point close to each mu\n",
    "    cnt = np.sum(r,axis=0)\n",
    "    new_mu = []\n",
    "    ## Caluculating new_mu\n",
    "    for k in range(K):\n",
    "        temp_lat = 0\n",
    "        temp_lng = 0\n",
    "        for data_row in csv_data.iterrows():\n",
    "            temp_lat += (r[data_row[0]][k]*data_row[1]['lat'])\n",
    "            temp_lng += (r[data_row[0]][k]*data_row[1]['lng'])\n",
    "        new_mu.append((temp_lat/cnt[k],temp_lng/cnt[k]))\n",
    "    metric = 0\n",
    "    ## Finding difference b/w mu and new_mu\n",
    "    for k in range(K):    \n",
    "        metric += ((mu[k][0]-new_mu[k][0])**2+(mu[k][1]-new_mu[k][1])**2)\n",
    "    mu = new_mu\n"
   ]
  },
  {
   "cell_type": "code",
   "execution_count": 6,
   "metadata": {},
   "outputs": [
    {
     "data": {
      "image/png": "[encoded data removed]",
      "text/plain": [
       "<Figure size 432x288 with 1 Axes>"
      ]
     },
     "metadata": {
      "needs_background": "light"
     },
     "output_type": "display_data"
    }
   ],
   "source": [
    "for k in range(K):\n",
    "  data_k = csv_data[r[:,k] == 1]\n",
    "  plt.scatter(data_k['lat'],data_k['lng'])"
   ]
  },
  {
   "cell_type": "code",
   "execution_count": null,
   "metadata": {},
   "outputs": [],
   "source": []
  }
 ],
 "metadata": {
  "kernelspec": {
   "display_name": "Python 3",
   "language": "python",
   "name": "python3"
  },
  "language_info": {
   "codemirror_mode": {
    "name": "ipython",
    "version": 3
   },
   "file_extension": ".py",
   "mimetype": "text/x-python",
   "name": "python",
   "nbconvert_exporter": "python",
   "pygments_lexer": "ipython3",
   "version": "3.7.6"
  }
 },
 "nbformat": 4,
 "nbformat_minor": 4
}
